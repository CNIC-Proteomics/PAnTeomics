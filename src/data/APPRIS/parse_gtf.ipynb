{
 "cells": [
  {
   "cell_type": "code",
   "execution_count": 1,
   "metadata": {},
   "outputs": [],
   "source": [
    "import gzip\n",
    "import os\n",
    "import pandas as pd\n",
    "import numpy as np"
   ]
  },
  {
   "cell_type": "code",
   "execution_count": 19,
   "metadata": {},
   "outputs": [],
   "source": [
    "ga = 'GRCh38'\n",
    "filepath = f'{ga}/appris_method.spade.gtf.gz'"
   ]
  },
  {
   "cell_type": "code",
   "execution_count": 20,
   "metadata": {},
   "outputs": [],
   "source": [
    "f = gzip.open(filepath, 'rb')\n",
    "\n",
    "gtf = [\n",
    "    sorted([\n",
    "        j.strip().split(' ')\n",
    "        for j in line.decode('utf-8').strip().split('\\t')[-1].split(';') # loop subfields in last field\n",
    "    ])\n",
    "    for line in f # loop lines\n",
    "]\n",
    "\n",
    "f.close()"
   ]
  },
  {
   "cell_type": "code",
   "execution_count": 21,
   "metadata": {},
   "outputs": [],
   "source": [
    "gtf = [\n",
    "    ([j1, j3, *[k.split(':') for k in j2[1].replace('\"','').split(',')]])\n",
    "    for j1,j2,j3 in gtf\n",
    "]"
   ]
  },
  {
   "cell_type": "code",
   "execution_count": 22,
   "metadata": {},
   "outputs": [],
   "source": [
    "# Some domains do not have evalue\n",
    "gtf = [i if 'evalue' in list(zip(*i))[0] else i + [['evalue', np.nan]] for i in gtf]\n",
    "\n",
    "# Sort fields\n",
    "gtf = [sorted(i) for i in gtf]"
   ]
  },
  {
   "cell_type": "code",
   "execution_count": 23,
   "metadata": {},
   "outputs": [
    {
     "name": "stdout",
     "output_type": "stream",
     "text": [
      "('evalue', 'gene_id', 'hmm_name', 'pep_end', 'pep_start', 'transcript_id')\n"
     ]
    }
   ],
   "source": [
    "gtf_rows = [list(zip(*i))[1] for i in gtf]\n",
    "gtf_columns = list(zip(*gtf[0]))[0]\n",
    "\n",
    "print(gtf_columns)"
   ]
  },
  {
   "cell_type": "code",
   "execution_count": 24,
   "metadata": {},
   "outputs": [],
   "source": [
    "dfgtf = pd.DataFrame(\n",
    "    [list(zip(*i))[1] for i in gtf], \n",
    "    columns=('evalue', 'gene_id', 'hmm_name', 'pep_end', 'pep_start', 'transcript_id')\n",
    ").astype({'evalue':'float64', 'pep_start':'int64','pep_end':'int64'})\n",
    "\n",
    "dfgtf['gene_id'] = dfgtf['gene_id'].str.replace('\"', '')\n",
    "dfgtf['transcript_id'] = dfgtf['transcript_id'].str.replace('\"', '')"
   ]
  },
  {
   "cell_type": "code",
   "execution_count": 8,
   "metadata": {},
   "outputs": [
    {
     "data": {
      "text/plain": [
       "evalue           float64\n",
       "gene_id           object\n",
       "hmm_name          object\n",
       "pep_end            int64\n",
       "pep_start          int64\n",
       "transcript_id     object\n",
       "dtype: object"
      ]
     },
     "execution_count": 8,
     "metadata": {},
     "output_type": "execute_result"
    }
   ],
   "source": [
    "dfgtf.dtypes"
   ]
  },
  {
   "cell_type": "code",
   "execution_count": 25,
   "metadata": {},
   "outputs": [
    {
     "data": {
      "text/html": [
       "<div>\n",
       "<style scoped>\n",
       "    .dataframe tbody tr th:only-of-type {\n",
       "        vertical-align: middle;\n",
       "    }\n",
       "\n",
       "    .dataframe tbody tr th {\n",
       "        vertical-align: top;\n",
       "    }\n",
       "\n",
       "    .dataframe thead th {\n",
       "        text-align: right;\n",
       "    }\n",
       "</style>\n",
       "<table border=\"1\" class=\"dataframe\">\n",
       "  <thead>\n",
       "    <tr style=\"text-align: right;\">\n",
       "      <th></th>\n",
       "      <th>evalue</th>\n",
       "      <th>gene_id</th>\n",
       "      <th>hmm_name</th>\n",
       "      <th>pep_end</th>\n",
       "      <th>pep_start</th>\n",
       "      <th>transcript_id</th>\n",
       "    </tr>\n",
       "  </thead>\n",
       "  <tbody>\n",
       "    <tr>\n",
       "      <th>0</th>\n",
       "      <td>1.800000e-51</td>\n",
       "      <td>ENSG00000198967</td>\n",
       "      <td>7tm_4</td>\n",
       "      <td>305</td>\n",
       "      <td>31</td>\n",
       "      <td>ENST00000641002</td>\n",
       "    </tr>\n",
       "    <tr>\n",
       "      <th>1</th>\n",
       "      <td>2.900000e-120</td>\n",
       "      <td>ENSG00000162654</td>\n",
       "      <td>GBP</td>\n",
       "      <td>295</td>\n",
       "      <td>33</td>\n",
       "      <td>ENST00000355754</td>\n",
       "    </tr>\n",
       "    <tr>\n",
       "      <th>2</th>\n",
       "      <td>4.400000e-128</td>\n",
       "      <td>ENSG00000162654</td>\n",
       "      <td>GBP_C</td>\n",
       "      <td>594</td>\n",
       "      <td>298</td>\n",
       "      <td>ENST00000355754</td>\n",
       "    </tr>\n",
       "    <tr>\n",
       "      <th>3</th>\n",
       "      <td>2.500000e-73</td>\n",
       "      <td>ENSG00000117226</td>\n",
       "      <td>GBP_C</td>\n",
       "      <td>203</td>\n",
       "      <td>2</td>\n",
       "      <td>ENST00000461384</td>\n",
       "    </tr>\n",
       "    <tr>\n",
       "      <th>4</th>\n",
       "      <td>1.800000e-125</td>\n",
       "      <td>ENSG00000117226</td>\n",
       "      <td>GBP</td>\n",
       "      <td>279</td>\n",
       "      <td>19</td>\n",
       "      <td>ENST00000370481</td>\n",
       "    </tr>\n",
       "    <tr>\n",
       "      <th>...</th>\n",
       "      <td>...</td>\n",
       "      <td>...</td>\n",
       "      <td>...</td>\n",
       "      <td>...</td>\n",
       "      <td>...</td>\n",
       "      <td>...</td>\n",
       "    </tr>\n",
       "    <tr>\n",
       "      <th>168376</th>\n",
       "      <td>1.100000e-13</td>\n",
       "      <td>ENSG00000198786</td>\n",
       "      <td>Proton_antipo_N</td>\n",
       "      <td>121</td>\n",
       "      <td>65</td>\n",
       "      <td>ENST00000361567</td>\n",
       "    </tr>\n",
       "    <tr>\n",
       "      <th>168377</th>\n",
       "      <td>1.300000e-73</td>\n",
       "      <td>ENSG00000198786</td>\n",
       "      <td>Proton_antipo_M</td>\n",
       "      <td>418</td>\n",
       "      <td>134</td>\n",
       "      <td>ENST00000361567</td>\n",
       "    </tr>\n",
       "    <tr>\n",
       "      <th>168378</th>\n",
       "      <td>2.700000e-53</td>\n",
       "      <td>ENSG00000198786</td>\n",
       "      <td>NADH5_C</td>\n",
       "      <td>602</td>\n",
       "      <td>422</td>\n",
       "      <td>ENST00000361567</td>\n",
       "    </tr>\n",
       "    <tr>\n",
       "      <th>168379</th>\n",
       "      <td>9.200000e-26</td>\n",
       "      <td>ENSG00000198712</td>\n",
       "      <td>COX2_TM</td>\n",
       "      <td>83</td>\n",
       "      <td>1</td>\n",
       "      <td>ENST00000361739</td>\n",
       "    </tr>\n",
       "    <tr>\n",
       "      <th>168380</th>\n",
       "      <td>4.700000e-62</td>\n",
       "      <td>ENSG00000198712</td>\n",
       "      <td>COX2</td>\n",
       "      <td>213</td>\n",
       "      <td>95</td>\n",
       "      <td>ENST00000361739</td>\n",
       "    </tr>\n",
       "  </tbody>\n",
       "</table>\n",
       "<p>168381 rows × 6 columns</p>\n",
       "</div>"
      ],
      "text/plain": [
       "               evalue          gene_id         hmm_name  pep_end  pep_start  \\\n",
       "0        1.800000e-51  ENSG00000198967            7tm_4      305         31   \n",
       "1       2.900000e-120  ENSG00000162654              GBP      295         33   \n",
       "2       4.400000e-128  ENSG00000162654            GBP_C      594        298   \n",
       "3        2.500000e-73  ENSG00000117226            GBP_C      203          2   \n",
       "4       1.800000e-125  ENSG00000117226              GBP      279         19   \n",
       "...               ...              ...              ...      ...        ...   \n",
       "168376   1.100000e-13  ENSG00000198786  Proton_antipo_N      121         65   \n",
       "168377   1.300000e-73  ENSG00000198786  Proton_antipo_M      418        134   \n",
       "168378   2.700000e-53  ENSG00000198786          NADH5_C      602        422   \n",
       "168379   9.200000e-26  ENSG00000198712          COX2_TM       83          1   \n",
       "168380   4.700000e-62  ENSG00000198712             COX2      213         95   \n",
       "\n",
       "          transcript_id  \n",
       "0       ENST00000641002  \n",
       "1       ENST00000355754  \n",
       "2       ENST00000355754  \n",
       "3       ENST00000461384  \n",
       "4       ENST00000370481  \n",
       "...                 ...  \n",
       "168376  ENST00000361567  \n",
       "168377  ENST00000361567  \n",
       "168378  ENST00000361567  \n",
       "168379  ENST00000361739  \n",
       "168380  ENST00000361739  \n",
       "\n",
       "[168381 rows x 6 columns]"
      ]
     },
     "execution_count": 25,
     "metadata": {},
     "output_type": "execute_result"
    }
   ],
   "source": [
    "dfgtf"
   ]
  },
  {
   "cell_type": "code",
   "execution_count": 26,
   "metadata": {},
   "outputs": [],
   "source": [
    "dfgtf.to_feather(f'{ga}/appris_method.spade.feather')"
   ]
  },
  {
   "cell_type": "code",
   "execution_count": 27,
   "metadata": {},
   "outputs": [],
   "source": [
    "dfgtf.to_csv(f'{ga}/appris_method.spade.csv')"
   ]
  }
 ],
 "metadata": {
  "interpreter": {
   "hash": "358b81a26eb9930b921220918e0132d699862b2d21ecd06fba93ee3bd6e96029"
  },
  "kernelspec": {
   "display_name": "Python 3.9.5 ('base')",
   "language": "python",
   "name": "python3"
  },
  "language_info": {
   "codemirror_mode": {
    "name": "ipython",
    "version": 3
   },
   "file_extension": ".py",
   "mimetype": "text/x-python",
   "name": "python",
   "nbconvert_exporter": "python",
   "pygments_lexer": "ipython3",
   "version": "3.9.5"
  },
  "orig_nbformat": 4
 },
 "nbformat": 4,
 "nbformat_minor": 2
}
